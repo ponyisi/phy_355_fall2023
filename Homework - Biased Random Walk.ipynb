{
 "cells": [
  {
   "cell_type": "code",
   "execution_count": 1,
   "metadata": {},
   "outputs": [],
   "source": [
    "from matplotlib import pyplot as plt\n",
    "import matplotlib\n",
    "matplotlib.rcParams['font.size'] = 16\n",
    "import numpy\n",
    "from math import sqrt\n",
    "import math\n",
    "import random"
   ]
  },
  {
   "cell_type": "markdown",
   "metadata": {},
   "source": [
    "So far we have looked at _unbiased_ random walks, in which we have equal probability to move forward and backward. Sometimes instead we have a _biased_ random walk, where we are more likely to move in one direction than another.\n",
    "\n",
    "Let's consider a one-dimensional random walk, in which at each step there is a probability $p$ of moving in the positive direction (and therefore a probability $1-p$ of moving in the negative direction)."
   ]
  },
  {
   "cell_type": "code",
   "execution_count": 8,
   "metadata": {},
   "outputs": [
    {
     "name": "stdout",
     "output_type": "stream",
     "text": [
      "Mean is 7.97396\n",
      "Standard deviation is 6.194194210581389\n"
     ]
    },
    {
     "data": {
      "image/png": "[encoded data removed]",
      "text/plain": [
       "<Figure size 432x288 with 1 Axes>"
      ]
     },
     "metadata": {
      "needs_background": "light"
     },
     "output_type": "display_data"
    }
   ],
   "source": [
    "# 1 dimensional biased random walk, sampled multiple times\n",
    "P = 0.6 # probability p of positive motion\n",
    "NSTEPS = 40 # number of steps in random walk\n",
    "NSAMPLES = 50000 # number of random walks to sample\n",
    "# now we don't care about the itermediate positions; we just want to store a list of final positions\n",
    "final_positions = []\n",
    "for sample in range(NSAMPLES):\n",
    "    # reset to zero\n",
    "    position = 0\n",
    "    for step in range(NSTEPS):\n",
    "        # we use += which means \"add the following to the existing variable\"\n",
    "        if random.random() < P:\n",
    "            position += 1\n",
    "        else:\n",
    "            position += -1\n",
    "    # now we should know where we wound up\n",
    "    final_positions.append(position)\n",
    "    \n",
    "print('Mean is', numpy.mean(final_positions))\n",
    "print('Standard deviation is', numpy.std(final_positions))\n",
    "    \n",
    "# let's make a histogram with 81 bins between -40.5 and 40.5 (keeps the bin edges integral)\n",
    "plt.hist(final_positions, range=(-40.5,40.5), bins=81)\n",
    "plt.xlabel('Final position')\n",
    "plt.ylabel('Number of trials')\n",
    "plt.show()"
   ]
  },
  {
   "cell_type": "markdown",
   "metadata": {},
   "source": [
    "By changing $p$ to a few values, verify that:\n",
    "* the mean position at the end of the random walks is $2N(p-1/2)$;\n",
    "* the standard deviation of the final positions is $2\\sqrt{Np(1-p)}$.\n",
    "\n",
    "Since you're sampling from the full ensemble, there's some randomness in the number you'll get from the simulations, so don't worry if it's slightly different from the formula prediction."
   ]
  },
  {
   "cell_type": "code",
   "execution_count": null,
   "metadata": {},
   "outputs": [],
   "source": []
  }
 ],
 "metadata": {
  "kernelspec": {
   "display_name": "Python 3",
   "language": "python",
   "name": "python3"
  },
  "language_info": {
   "codemirror_mode": {
    "name": "ipython",
    "version": 3
   },
   "file_extension": ".py",
   "mimetype": "text/x-python",
   "name": "python",
   "nbconvert_exporter": "python",
   "pygments_lexer": "ipython3",
   "version": "3.8.6"
  }
 },
 "nbformat": 4,
 "nbformat_minor": 4
}
