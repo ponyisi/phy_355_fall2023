{
 "cells": [
  {
   "cell_type": "markdown",
   "metadata": {},
   "source": [
    "# Energy-momentum"
   ]
  },
  {
   "cell_type": "markdown",
   "metadata": {
    "tags": [
     "remove-cell"
    ]
   },
   "source": [
    "\n",
    "### Peter Onyisi\n",
    "<img src=\"images/texas_logo.png\" width=\"400\" align=\"left\"/>"
   ]
  },
  {
   "cell_type": "markdown",
   "metadata": {},
   "source": [
    "## Characterizing motion\n",
    "\n",
    "We discussed earlier the *four-velocity*. This is the four-vector tangent to the worldline of an object, describing how the particle is moving along its worldline per unit proper time (the time measured by a clock traveling with the object). This is a proper four-vector obeying Lorentz transformation rules: all observers agree it's the same physical vector, even if they disagree on the components.\n",
    "\n",
    "We saw that the space component of the four-velocity is not the regular 3D velocity, because it picks up an extra $\\gamma$ factor. This is because we take the derivatives with respect to the proper time of an object (experiencing time dilation in any other frame). We have\n",
    "$$ u = [\\gamma, \\gamma \\mathbf{v}] $$\n",
    "where in this notation the first component is the time component of the four-vector and the second is the 3D space vector.\n",
    "\n",
    "The only relativistically-invariant way to characterize the trajectory of an object is through the four-velocity. It would make sense, then, to try to describe kinematic variables - momentum and energy - in terms of the four-velocity.  Let's look at the low velocity limiting behavior of the four-vector $u$:\n",
    "\n",
    "$$\n",
    "\\begin{align*}\n",
    "\\gamma &= \\frac{1}{\\sqrt{1-v^2}}\\\\\n",
    "&= 1 + \\frac{1}{2}v^2 + O(v^4)\\\\\n",
    "\\gamma\\mathbf{v} &= \\frac{\\mathbf{v}}{\\sqrt{1-v^2}}\\\\\n",
    "&= \\frac{\\mathbf{v}}{v} v\\left(1+ \\frac{1}{2}v^2 + O(v^4)\\right)\\\\\n",
    "&= \\frac{\\mathbf{v}}{v}\\left(v + O(v^3)\\right)\n",
    "\\end{align*}\n",
    "$$\n",
    "\n",
    "The notation $O(v^n)$ means \"terms which involve $v$ with a power of $n$ or greater\". Remember that we are using units where $c=1$ so for our day-to-day world $v \\lll 1$, so let's throw away all terms beyond the lowest-order dependence on $v$ (equivalently we only keep $v^2$ and lower powers). Then\n",
    "\n",
    "$$ u \\approx \\left[1 + \\frac{1}{2}v^2, \\mathbf{v}\\right]$$\n",
    "\n",
    "so the space component does look like the normal velocity, while the time component is perhaps a bit peculiar.\n",
    "\n",
    "## Making the four-momentum vector\n",
    "\n",
    "We would like to match our regular, low-velocity notions of velocity and kinetic energy to something we can get out of the four-velocity.  Given that at low velocity the space-part of the four-velocity $u$ is just the usual velocity $\\mathbf{v}$, we are tempted to just multiply $u$ by the mass $m$:\n",
    "\n",
    "$$ p = mu \\approx \\left[m + \\frac{1}{2}mv^2, m\\mathbf{v}\\right]$$\n",
    "\n",
    "The _time_ part of this four-vector is interesting. There is a $\\frac{1}{2}mv^2$ component which is exactly what we would expect for kinetic energy at speed $v$, but there is a component $m$ which is there even if $v=0$.  If we want to associate the time component with an energy (certainly the $\\frac{1}{2}mv^2$ is very suggestive) then we need to associate an energy $E_0 = m$ that is present for objects regardless of whether they are moving or not (a *rest energy*). We can't redefine the four-vector to get rid of it (otherwise it won't transform properly under Lorentz transformations). The vector $p$ is generally referred to as the *four-momentum*:\n",
    "\n",
    "$$ p = [E, p_x, p_y, p_z] $$\n",
    "\n",
    "### A note on units\n",
    "We have been operating with our units in which velocities are unitless and time and space are measured in the same units. This means that the four-velocity is unitless (which makes sense for what is essentially a slope of a line in space-time). If we would like to translate $p = mu$ into normal SI units, we have to \"undo\" setting $c=1$ - equivalently, where we carefully reintroduce factors of $3 \\times 10^8$ m/s. So in SI units we would want the time component (energy) to have units \\[kg\\]\\[m/s\\]<sup>2</sup> - i.e. multiply the mass by $c^2$ - while the space component (momentum) would have units \\[kg\\]\\[m/s\\], so we multiply the mass by $c$. When doing this we also need to replace $v$ (unitless) by $v/c$.\n",
    "\n",
    "From this we get, at low velocities,\n",
    "$$\\begin{align*}\n",
    "E &\\approx mc^2 \\left(1 + \\frac{1}{2}(v/c)^2\\right) = mc^2 + \\frac{1}{2}mv^2\\\\\n",
    "\\mathrm{p} &\\approx mc \\left(\\frac{\\mathbf{v}}{v}\\frac{v}{c}\\right) = mv\n",
    "\\end{align*}\n",
    "$$\n",
    "\n",
    "So, again, we get the usual momentum and kinetic energy terms, and an augmentation of the energy by the value $mc^2$. Removing the restriction of low velocity, we find\n",
    "\n",
    "| Quantity | $c=1$ | SI units |\n",
    "|----------|------------:|---------:|\n",
    "| $E$      | $\\gamma m$  | $\\gamma m c^2$ |\n",
    "| Rest energy | $m$      | $mc^2$ |\n",
    "| Kinetic energy | $(\\gamma-1)m$ | $(\\gamma-1)$ $mc^2$ |\n",
    "| Momentum $\\mathbf{p}$ | $\\gamma m \\mathbf{v}$ | $\\gamma m \\mathbf{v}$ |\n",
    "\n",
    "(Note that for momentum the velocity $v$ has different units if $c=1$ and if we're using SI.)\n",
    "\n",
    "There's an additional set of units that particle physicists like to use for energy/momentum/mass, in which the fundamental unit is the energy (in electron-volts, eV); momentum is expressed in units of eV/c and mass in units of eV/c<sup>2</sup>. In these units, 1 eV = $1.6 \\times 10^{-19}$ J and 1 eV/c<sup>2</sup> = $1.78\\times 10^{-36}$ kg.  For comparison, the mass of an electron corresponds to 511 keV/c<sup>2</sup>.\n",
    "\n",
    "For a scale comparison of kinetic and rest energy terms: Florence Griffith-Joyner, at 57 kg, ran 100 m in 10.49 s, with a kinetic energy $\\frac{1}{2}mv^2$ of $2.6 \\times 10^3$ J. Her _rest_ energy, due to her mass, was $5.1 \\times 10^{18}$ J.\n",
    "\n",
    "We can also take the *space-time invariant* of the four-momentum:\n",
    "\n",
    "$$ \\begin{align*}\n",
    "p\\cdot p &= p^2 = E^2 - \\mathbf{p}^2\\\\\n",
    "&= \\gamma^2 m^2 - \\gamma^2 m^2 \\mathbf{v}^2\\\\\n",
    "&= m^2\\frac{1}{(\\sqrt{1-v^2})^2}(1-v^2)\\\\\n",
    "&= m^2\n",
    "\\end{align*}\n",
    "$$\n",
    "(this is in $c=1$ units; if we are in SI then it is $p^2 = E^2 - (pc)^2 = (mc^2)^2$.) We could have concluded this from the fact that in the rest frame of the object, $p = [m, 0, 0, 0]$, whose invariant is clearly $m^2$.)\n",
    "\n",
    "For a single particle we tend to think of the mass of the particle as a fundamental property of the particle - it is the same regardless of reference frame. Apart from the \"traditional\" interpretation of the mass as a measure of inertia in Newton's second law, it is also the energy of the particle in the particle's rest frame.\n",
    "\n",
    "### The Case of Light\n",
    "An object moving at the speed of light has zero space-time invariant along its path, so the derivatives with respect to proper time can't be done to define the four-velocity. However we can still define the four-momentum consistent with the particle of light, the photon being massless: $m=0$ implies that $E^2 - \\mathbf{p}^2 = 0$, or $E = |\\mathbf{p}|$.\n",
    "\n",
    "## Why you can't get to the speed of light\n",
    "We've written out the *kinematics* in relativistic language - we have a four-momentum that depends on the velocity. However so far we have not described the *dynamics* - how those kinematics are affected by interactions (forces). In fact it's somewhat rare to do this in practice (outside of electromagnetism).  However we can do this; in a specific frame we can use Newton's second law in the form $\\mathbf{F} = d\\mathbf{p}/dt$ (which is *not* $m\\mathbf{a}$, since $\\gamma$ is a variable now). By applying a constant force in the direction of motion, we can make the momentum magnitude as large as we like. However, this does not mean that the *velocity* will increase towards infinity.\n",
    "\n",
    "$$\\begin{align*}\n",
    "|\\mathbf{p}| &= \\gamma m v\\\\\n",
    "&= m\\frac{v}{\\sqrt{1-v^2}}\\\\\n",
    "v &= \\frac{1}{\\sqrt{1+(m/|\\mathbf{p}|)^2}}\n",
    "\\end{align*}\n",
    "$$\n",
    "\n",
    "![Velocity vs momentum](images/relativistic_v_vs_p.png)\n",
    "\n",
    "This gives us a sense of the scale at which relativistic effects start to kick in. We can make the same kind of plot for the velocity versus the kinetic energy:\n",
    "\n",
    "![Velocity vs kinetic energy](images/relativistic_v_vs_ke.png)\n",
    "\n",
    "So you can pump as much momentum/energy as you want into a particle, but you will not be able to get $v$ to 1."
   ]
  },
  {
   "cell_type": "markdown",
   "metadata": {},
   "source": [
    "## Composite systems\n",
    "\n",
    "What makes the four-momentum particularly interesting is that we can sum together the four-momenta of the components of a system to get the total four-momentum of the system. (We may also have to consider the potential energy of a system when computing the total energy.)\n",
    "\n",
    "$$ \\begin{align*}p_\\mathrm{tot} = \\sum_i p_i& &\\textrm{(assuming no potential energies)}\\end{align*}$$\n",
    "\n",
    "We keep as fundamental principles the idea that the energies and momenta of a system sum to give the total energy and momentum, but in doing this we must give up the idea that we get the total _mass_ by summing the masses of the components. Instead, the mass is a property of the _system_ of particles, coming from the total energy and momentum of that system of particles.\n",
    "\n",
    "Let's consider an example: two photons traveling in opposite directions with three-momenta $\\mathbf{p}$ and $-\\mathbf{p}$ individually have mass zero, and each have energy $E = |\\mathbf{p}|$. The total four-momentum of the two photon system is\n",
    "\n",
    "$$ p_\\mathrm{tot} = [E, \\mathbf{p}] + [E, -\\mathbf{p}] = [2E, 0, 0, 0] $$\n",
    "\n",
    "The mass of the two-photon system is $\\sqrt{p_\\mathrm{tot}^2} = \\sqrt{(2E)^2} = 2E = 2|\\mathbf{p}| > 0$.\n",
    "\n",
    "This apparent weirdness comes from the _internal_ energy of the system: it's the fact that the photons are moving relative to each other. If instead the two photons were traveling with the same momentum, we would have\n",
    "\n",
    "$$ p_\\mathrm{tot} = [E, \\mathbf{p}] + [E, \\mathbf{p}] = [2E, 2\\mathbf{p}] $$\n",
    "\n",
    "and since $E=|\\mathbf{p}|$ the mass $\\sqrt{p_\\mathrm{tot}^2} = \\sqrt{(2E)^2-(2\\mathbf{p})^2} = 0$. "
   ]
  },
  {
   "cell_type": "code",
   "execution_count": null,
   "metadata": {},
   "outputs": [],
   "source": []
  }
 ],
 "metadata": {
  "celltoolbar": "Tags",
  "kernelspec": {
   "display_name": "Python 3",
   "language": "python",
   "name": "python3"
  },
  "language_info": {
   "codemirror_mode": {
    "name": "ipython",
    "version": 3
   },
   "file_extension": ".py",
   "mimetype": "text/x-python",
   "name": "python",
   "nbconvert_exporter": "python",
   "pygments_lexer": "ipython3",
   "version": "3.8.5"
  }
 },
 "nbformat": 4,
 "nbformat_minor": 4
}
