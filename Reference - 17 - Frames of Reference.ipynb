{
 "cells": [
  {
   "cell_type": "markdown",
   "metadata": {},
   "source": [
    "# Frames of Reference"
   ]
  },
  {
   "cell_type": "markdown",
   "metadata": {
    "tags": [
     "remove-cell"
    ]
   },
   "source": [
    "\n",
    "### Peter Onyisi\n",
    "<img src=\"images/texas_logo.png\" width=\"400\" align=\"left\"/>"
   ]
  },
  {
   "cell_type": "markdown",
   "metadata": {},
   "source": [
    "Physics is rightly proud of Newton's Second Law\n",
    "\n",
    "$$\\sum \\mathbf{F} = m\\mathbf{a} = m\\frac{d^2\\mathbf{x}}{dt^2}.$$\n",
    "\n",
    "This is a _dynamical law_ in that it tells us how things move, if we know the force $\\mathbf{F}$. But it also serves as a way to define force: for a given acceleration $\\mathbf{a}$ we must have a total force $m\\mathbf{a}$.\n",
    "\n",
    "## Inertial and Non-Inertial Frames\n",
    "\n",
    "How do we determine the acceleration $\\mathbf{a}$? Who gets to decide?  Standing on the surface of the Earth, I may think that I'm well-placed to talk about the motion of objects; but my point of view says that the Sun moves incredibly quickly around the planet, so that it travels nearly a billion kilometers a day.  The distant stars and galaxies are even faster, going potentially billions of light years a day.  This circular motion around the Earth corresponds to an acceleration of magnitude $\\omega^2 r$, where $\\omega = 2\\pi/\\textrm{day}$. From $\\mathbf{F} = m\\mathbf{a}$ we would conclude that every object in the universe (other than the Earth itself) is experiencing an utterly gigantic attractive force towards the Earth that grows with distance.  Also, in contravention to Newton's Third Law, there is no _reaction_ force to these supposed attractive forces.  \n",
    "\n",
    "So Newton's Laws don't quite seem to apply to my \"reference frame\" (coordinate system, basically) fixed to a location on the surface of the Earth.  Of course the standard answer to the problem is to say that Earth is rotating, and the Sun is not, in fact, orbiting the earth once every 24 hours. The rotation itself means that our measurements are invalid, for some reason.  \n",
    "\n",
    "We separate reference frames into \"inertial\" and \"non-inertial\" ones. The distinction is whether Newton's Third Law applies in the system or not. Because we can always _define_ forces via $\\mathbf{F} = m\\mathbf{a}$, we can always invent forces to explain any acceleration that is observed in a coordinate system; but if those forces have no reaction forces, we call the forces *fictitious*. This includes centrifugal force that pushes you sideways as you make a tight corner, the force that pushes you back into your seat as you accelerate from a stop, or the Coriolis force that makes hurricanes spin.  These fictitious forces are defined because we want to make $\\mathbf{F} = m\\mathbf{a}$ apply in a coordinate system in which Newton's Third Law does not apply. If such forces exist, then the reference frame is non-inertial; if no such forces exist, then the reference frame is inertial.\n",
    "\n",
    "The general rule is that non-inertial frames involve an acceleration or a rotation of the coordinate system.  So when you accelerate in a vehicle, the origin of your coordinate system (your seat) is accelerating relative to the road, and so a fictitous force is created. The Coriolis force in Earth's atmosphere arises because we are looking at the motion of air in terms of coordinates fixed to the Earth's surface (latitude and longitude) which are changing underneath the air as it moves about.\n",
    "\n",
    "All this of course raises the question, is there an inertial frame, really? The surface of the Earth is a decent frame for anchoring a coordinate system for small-scale distances, but obviously we would not use such coordinates to describe the motion of planets. We could try using the center of the Sun, but it is itself accelerating towards the center of the galaxy. The galaxy itself is accelerating based on the gravitational interactions of other nearby galaxies. All of these introduce fictitious forces (getting weaker as we move outwards, to be sure).\n",
    "\n",
    "Nevertheless we can make an abstraction: an inertial reference frame, in which there are no fictitious forces at all.  Is there only one such frame?  No!  Any reference frame whose origin moves with constant velocity with respect to the first frame (and which is not rotating) is also inertial: since the new frame is not accelerating, no fictitious forces are created.\n",
    "\n",
    "## The Galilean Transformation\n",
    "\n",
    "Let's say that reference frame 1 is \"stationary\", and that the origin of reference frame 2 is \"moving\" with constant velocity $\\mathbf{v}$. (\"Stationary\" and \"moving\" are in quotes since we could easily swap the labels, in which case the origin of reference frame 2 is fixed and the origin of reference frame 1 has velocity $-\\mathbf{v}$.) For simplicity, assume that at time $t=0$ their origins coincide. If I have an object whose position as measured in frame 1 is $\\mathbf{x}(t)$, then the position $\\mathbf{x}'(t)$ measured in frame 2 must satisfy\n",
    "\n",
    "$$ \\begin{align*}\n",
    "\\mathbf{x}(t) &= \\mathbf{v}t + \\mathbf{x}'(t)\\\\\n",
    "\\mathbf{x}'(t) &= \\mathbf{x}(t) - \\mathbf{v}t \n",
    "\\end{align*}$$\n",
    "\n",
    "This formula (the Galilean transformation) is deceptively simple; the statement is actually non-trivial, as we will see eventually, because it assumes that time and space are measured the same way in both frame 1 and frame 2, i.e. that the separation of the object from the origin frame 2 is measured to be the same in both frames (and both frames agree on the time the measurement is done).  Nevertheless is this assumption underlies Newtonian mechanics, especially the implicit idea of an *absolute time*: all reference frames share a common time coordinate $t$, and clocks tick equally regardless of how they're moving.\n",
    "\n",
    "The Galilean transformation has the interesting property that accelerations (and therefore forces) are measured to be the same in both frames 1 and 2:\n",
    "\n",
    "$$ \\begin{align*}\n",
    "\\mathbf{v}'(t) &= \\frac{d\\mathbf{x'(t)}}{dt}\\\\\n",
    "&= \\frac{d}{dt}(\\mathbf{x}(t) - \\mathbf{v}t)\\\\\n",
    "&= \\frac{d\\mathbf{x}(t)}{dt} - \\mathbf{v}\\\\\n",
    "&= \\mathbf{v}(t) - \\mathbf{v}\\\\\n",
    "\\mathbf{a}'(t) &= \\frac{d\\mathbf{v'}(t)}{dt}\\\\\n",
    "&= \\frac{d}{dt}(\\mathbf{v}(t) - \\mathbf{v})\\\\\n",
    "&= \\frac{d\\mathbf{v}(t)}{dt}\\\\\n",
    "&= \\mathbf{a}(t)\n",
    "\\end{align*}$$\n",
    "\n",
    "(Velocities change, however.) All inertial frames are related to each other by a Gailiean transformation (plus, possibly, a one-time rotation - the rotation angles cannot change with time).  All _inertial_ frames are therefore equivalent for describing problems in Newtonian mechanics: the accelerations are the same for all objects, so in all frames the same forces can be assumed to be acting on the objects.  (And by definition Newton's Third Law applies.)\n",
    "\n",
    "## The Problem of Light\n",
    "The Galilean transformation makes some very specific statements. In particular it insists that the velocity of objects is different in two coordinate frames whose origins are moving relative to each other. This should apply to \"objects\" like the crest of a wave. Indeed in normal life we know it is possible to catch up with propagating waves (surfers move at the speed of ocean waves, so the wave seems basically stationary to them; planes can catch up with their sound waves by traveling at Mach 1 or above). So we would naively expect the same to be true of light. This opens a great mystery..."
   ]
  },
  {
   "cell_type": "code",
   "execution_count": null,
   "metadata": {},
   "outputs": [],
   "source": []
  }
 ],
 "metadata": {
  "celltoolbar": "Tags",
  "kernelspec": {
   "display_name": "Python 3",
   "language": "python",
   "name": "python3"
  },
  "language_info": {
   "codemirror_mode": {
    "name": "ipython",
    "version": 3
   },
   "file_extension": ".py",
   "mimetype": "text/x-python",
   "name": "python",
   "nbconvert_exporter": "python",
   "pygments_lexer": "ipython3",
   "version": "3.8.5"
  }
 },
 "nbformat": 4,
 "nbformat_minor": 4
}
