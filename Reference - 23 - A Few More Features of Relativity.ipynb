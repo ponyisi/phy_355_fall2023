{
 "cells": [
  {
   "cell_type": "markdown",
   "metadata": {},
   "source": [
    "# A Few More Features of Relativity"
   ]
  },
  {
   "cell_type": "markdown",
   "metadata": {
    "tags": [
     "remove-cell"
    ]
   },
   "source": [
    "\n",
    "### Peter Onyisi\n",
    "<img src=\"images/texas_logo.png\" width=\"400\" align=\"left\"/>"
   ]
  },
  {
   "cell_type": "markdown",
   "metadata": {},
   "source": [
    "## Doppler Shift\n",
    "The *speed* of light is the same in all reference frames. However, photons do look different in different reference frames. The easiest way to see this is that the four-momentum vector of a photon must change in the same way as the four-momentum vector of anything else:\n",
    "\n",
    "$$ [E, \\mathbf{p}] = [h\\nu, h\\nu\\mathbf{\\hat p}]$$\n",
    "\n",
    "where $\\mathbf{\\hat p}$ is a unit 3-vector pointing in the direction of the photon's travel. Let's consider the specific case where we are lab observers, measuring the frequency of light emitted by a source moving relative to us. We can use $s$ subscripts for the values in the source frame, and $r$ subscripts for the values in the observer (receiver) frame. If the source is moving at $v$ in the $+x$ direction as seen by the observers, then we can use the inverse Lorentz transformation to relate the quantities in the two frames:\n",
    "\n",
    "$$ E_r = \\gamma(E_s + v p_{x,s}) $$\n",
    "\n",
    "If the photon direction $\\mathbf{\\hat p}$ makes an angle $\\theta$ to the $x$ axis in the source frame, then\n",
    "\n",
    "$$ E_r = \\gamma(E_s + v E_s\\cos\\theta) = \\gamma(1+v\\cos\\theta) E_s$$\n",
    "\n",
    "Since this $E_r$ corresponds to a new frequency $\\nu_r$ compared to the source frequency $\\nu_s = E_s/h$, the photon must change frequency in the Lorentz transformation:\n",
    "\n",
    "$$ \\frac{\\nu_r}{\\nu_s} = \\frac{1+v\\cos\\theta}{\\sqrt{1-v^2}} $$\n",
    "\n",
    "Let's consider two simple cases. Suppose the source is approaching the observers along the $x$ axis: then the source must be at negative $x$ and the light that is received by the observers has $\\theta = 0$. Then \n",
    "\n",
    "$$ \\left(\\frac{\\nu_r}{\\nu_s}\\right)_\\textrm{approaching} = \\frac{1+v}{\\sqrt{1-v^2}} = \\frac{1+v}{\\sqrt{(1-v)(1+v)}} = \\sqrt{\\frac{1+v}{1-v}} $$\n",
    "\n",
    "The frequency of the received light will be increased from what was emitted. Visible light will be made \"bluer,\" hence the term *blueshift*. For small values of $v$ the ratio will be $\\approx 1+v$.\n",
    "\n",
    "On the other hand, if the source is moving away from the receiver, it will be at positive $x$ and the light received was emitted with $\\theta = \\pi$. Then\n",
    "\n",
    "$$ \\left(\\frac{\\nu_r}{\\nu_s}\\right)_\\textrm{receding} = \\frac{1-v}{\\sqrt{1-v^2}} = \\frac{1-v}{\\sqrt{(1-v)(1+v)}} = \\sqrt{\\frac{1-v}{1+v}} $$\n",
    "\n",
    "The frequency of the received light will be reduced from what was emitted. Visible light will be made \"redder,\" hence the term *redshift*. For small values of $v$ the ratio will be $\\approx 1-v$.\n",
    "\n",
    "## The Expansion of the Universe\n",
    "Since elements have characteristic emission and absorption lines at very specific frequencies, we can use them to determine if a source is moving relative to us. This method can be applied across the dimensions of the entire visible universe (although for sufficiently large distances it needs general relativity to understand properly).\n",
    "\n",
    "When measurements of the light spectra of galaxies started to be taken in the 1920s, it was quickly seen that almost all galaxies had *redshifted* light: they were almost all moving away from us. It is possible to estimate the distance to the galaxies through various methods, all relying on trying to find types of objects that have uniform brightness everywhere (so the visible brightness from Earth gives a distance through the inverse square law).  In the late 1920s/early 1930s Edwin Hubble, using data from various sources, showed that the velocity implied by the redshift was, to a very good approximation, proportional to distance:\n",
    "\n",
    "$$ v = Hd $$\n",
    "\n",
    "where $d$ is the distance to the galaxy and $H$ is the Hubble constant, which is frequently quoted as $\\sim 70$ km/s per megaparsec (a parsec is 3.3 light years or $3.09 \\times 10^{16}$ m; for reference the Andromeda Galaxy is 0.78 Mpc away, although it is actually one of the galaxies with a *blue*shift.)\n",
    "\n",
    "[![1929 Hubble's law plot](images/hubble.jpg)](https://www.pnas.org/content/15/3/168)\n",
    "[![1931 Hubble's law plot](images/hubble_humason.png)](https://ui.adsabs.harvard.edu/abs/1931ApJ....74...43H/abstract)\n",
    "\n",
    "This is now understood as an expansion of the space-time of the universe that drags all objects in it apart from each other, with distances between objects growing at a rate that is linear in the distance.\n",
    "\n",
    "For scale: over a hundred years, Hubble's law predicts that a meter of space expands by 7 nm over a century, so the expansion of the universe is not something that we observe on small scales; it is always overwhelmed by other effects.\n",
    "\n",
    "## Nuclear Resonance and M&ouml;ssbauer Effect\n",
    "\n",
    "Nuclei, like atoms, can have excited states with more energy that the ground state, corresponding to stationary state wavefunctions. Transitions between these states also involve emission and absorption of photons, although the relevant energies are much higher (typically keV or MeV instead of eV) so the photons are gamma rays.  \n",
    "\n",
    "Because the photons have momentum, nuclei that emit photons in transitions will recoil. Let's consider the transition between two nuclear states of mass $m_1$ (excited) and $m_0$ (ground), where the excited state is initially at rest, and the emitted photon is traveling along $+x$:\n",
    "\n",
    "$$[ m_1, 0, 0, 0 ] = [E_\\gamma, E_\\gamma, 0, 0] + [E', p_x, 0, 0] $$\n",
    "\n",
    "where $p_x = -E_\\gamma$ and $E'^2-p_x^2 = m_0^2$. We solve for $E_\\gamma$ through the constraint on the mass of the ground state nucleus:\n",
    "\n",
    "$$\\begin{align*}\n",
    "m_0^2 &= E'^2 - p_x^2\\\\\n",
    "&= E'^2 - E_\\gamma^2\\\\\n",
    "&= (m_1 - E_\\gamma)^2 - E_\\gamma^2\\\\\n",
    "&= m_1^2 - 2m_1 E_\\gamma\\\\\n",
    "E_\\gamma &= \\frac{m_1^2 - m_0^2}{2 m_1} \\\\\n",
    "&= (m_1 - m_0)\\left(\\frac{m_1+m_0}{2m_1}\\right)\\\\\n",
    "&= (m_1 - m_0)\\left(1-\\frac{m_1-m_0}{2m_1}\\right)\n",
    "\\end{align*}\n",
    "$$\n",
    "\n",
    "Since $m_1 > m_0$ we must have $E_\\gamma < m_1-m_0$; for iron-57's 14.4 keV transition, this is a shift in the photon energy from $m_1-m_0$ by $1.4\\times 10^{-7}$. Although small, it turns out that this is enough that an iron-57 nucleus at rest will not *absorb* this frequency of light to enter an excited state: the range of allowed frequencies for excitation is too narrow. In fact a shift of order $10^{-12}$ will prevent the nucleus from absorbing the photon.\n",
    "\n",
    "A photon energy shift of $1.4\\times 10^{-7}$ is produced by the Doppler shift from a velocity of 42 m/s, which is achievable in a lab. However, there is a simpler way to deal with the problem. Solid iron is embedded in a metal crystal, and if that entire _crystal_ takes up the recoil, then we can effectively increase $m_1$ and $m_0$ (adding together the masses of a large number of nuclei) while keeping $m_1-m_0$ the same. If we had a mole of iron-57, then we would reduce the shift by a factor $6.022 \\times 10^{23}$ - basically we could treat the emission as recoilless. The recoilless fraction depends strongly on the exact crystal but can be >50% of emitted photons.  These recoilless photons can be absorbed by another crystal with iron-57 (you also need recoilless *absorption*). The fact that this happens - that sometimes the recoil/absorption of nuclear photon emissions is taken up by the whole crystal lattice - is called the *M&ouml;ssbauer effect*.\n",
    "\n",
    "This can actually serve as more than a curiosity. We can Doppler shift the photons by moving the emitter; a relative photon energy change of $10^{-12}$ will detune the absorption, and this corresponds to $v=0.3$ mm/s, which is very easy to produce and control in a lab. The 14.4 keV transition actually occurs between a set of related states which can be made to have different energies by, for example, the local magnetic field at the nucleus (created by the rest of the crystal). Below is a plot from a 1960 paper by Kistner and Sunyar looking at the splitting of the energies of the nuclear states of iron-57 in Fe<sub>2</sub>O<sub>3</sub>, which allowed them to determine that the magnetic field experienced by the nucleus was 52 Tesla.\n",
    "\n",
    "[![Mossbauer effect in Fe2O3](images/mossbauer.png)](https://journals.aps.org/prl/abstract/10.1103/PhysRevLett.4.412)\n",
    "\n",
    "This kind of measurement, termed *M&ouml;ssbauer spectroscopy*, is an extremely precise way to measure properties of crystals that affect the energies of nuclear states."
   ]
  },
  {
   "cell_type": "markdown",
   "metadata": {},
   "source": [
    "## Electromagnetism\n",
    "\n",
    "Finally, let's take things back to where the discussion started - electromagnetism. Relativity means that $\\mathbf{E}$ and $\\mathbf{B}$ fields depend on reference frame. (The following discussion is in SI units.)\n",
    "\n",
    "Let's consider an infinite, uniform, stationary charged wire which extends along the $x$ axis, with a charge per unit length $\\lambda$. By Gauss's Law, there is an electric field pointing radially out from the wire:\n",
    "\n",
    "$$ \\mathbf{E} = \\frac{\\lambda}{2\\pi\\epsilon_0 r}\\mathbf{\\hat r} $$\n",
    "\n",
    "where $r$ is the distance from the wire and $\\mathbf{\\hat r}$ is the vector pointing perpendicularly away from the wire at any given point. There's no current, so the magnetic field is zero.\n",
    "\n",
    "Now, let's move to another frame in which the wire moves to $+x$ (i.e., along its length) at velocity $v$. Because of length contraction, the charge per unit length is now $\\lambda' = \\gamma\\lambda$. There is also now a *current* because the charge is moving: $I = \\lambda' v = \\gamma v \\lambda$. This corresponds to an electric field\n",
    "\n",
    "$$ \\mathbf{E'} = \\gamma\\frac{\\lambda}{2\\pi\\epsilon_0 r}\\mathbf{\\hat r} $$\n",
    "\n",
    "and a magnetic field\n",
    "\n",
    "$$ \\mathbf{B'} = \\gamma\\frac{\\mu_0 \\lambda v}{2\\pi r} \\mathbf{\\hat \\phi} $$\n",
    "\n",
    "where $\\mathbf{\\hat \\phi}$ is an azimuthal vector around the $x$ axis.\n",
    "\n",
    "So different frames observe different $\\mathbf{E}$ and $\\mathbf{B}$ fields. This turns out to be necessary to have complete consistency of events under relativity.  For example, suppose we have a test charge of mass $m$ and charge $q$ (of the same sign as the wire) that starts off stationary in the frame in which the wire is at rest (wire frame). The charge will experience a force $dp_r/dt$ away from the wire of magnitude $qE = q\\lambda/2\\pi\\epsilon_0 r$. In the frame in which the wire is moving with velocity $v$ (lab frame), so is the charge. Since $p_r$ is a momentum magnitude perpendicular to the direction of a Lorentz transformation, it will be unchanged by the Lorentz transformation between the two frames. There is time dilation between the lab frame ($t'$) and the wire frame ($t$): $t' = \\gamma t$. So we must have\n",
    "\n",
    "$$ \\frac{dp_r}{dt'} = \\frac{dp_r}{dt}\\frac{dt}{dt'} = \\frac{dp_r}{dt}\\frac{1}{\\gamma} $$\n",
    "\n",
    "In the lab frame we see the momentum of the test charge away from the wire increasing *more slowly* than in the wire frame. Can we reconcile this with the forces observed in the lab frame?\n",
    "\n",
    "In the lab frame, the test charge experiences an electric force $qE' = q\\gamma E$, but now also a *magnetic* force $qvB'$ that *attracts* it to the wire. The net force $dp_r/dt'$ in the lab frame is\n",
    "\n",
    "$$ \\begin{align*}\n",
    "q\\gamma\\frac{\\lambda}{2\\pi\\epsilon_0 r}-qv\\gamma\\frac{\\mu_0 \\lambda v}{2\\pi r} \n",
    "&= \\gamma\\frac{q\\lambda}{2\\pi \\epsilon_0 r}\\left[1 - v^2\\mu_0\\epsilon_0\\right]\\\\\n",
    "&= \\frac{q\\lambda}{2\\pi \\epsilon_0 r}\\frac{1-v^2/c^2}{\\sqrt{1-v^2/c^2}}\\\\\n",
    "&= \\frac{1}{\\gamma}\\frac{q\\lambda}{2\\pi \\epsilon_0 r}\n",
    "\\end{align*}\n",
    "$$\n",
    "\n",
    "so the lab frame observer observes the radial momentum increasing more slowly with time than does the wire observer ($p_r$ is perpendicular to the direction of Lorentz transformations so is the same for both frames), exactly as concluded above."
   ]
  },
  {
   "cell_type": "code",
   "execution_count": null,
   "metadata": {},
   "outputs": [],
   "source": []
  }
 ],
 "metadata": {
  "celltoolbar": "Tags",
  "kernelspec": {
   "display_name": "Python 3",
   "language": "python",
   "name": "python3"
  },
  "language_info": {
   "codemirror_mode": {
    "name": "ipython",
    "version": 3
   },
   "file_extension": ".py",
   "mimetype": "text/x-python",
   "name": "python",
   "nbconvert_exporter": "python",
   "pygments_lexer": "ipython3",
   "version": "3.8.6"
  }
 },
 "nbformat": 4,
 "nbformat_minor": 4
}
