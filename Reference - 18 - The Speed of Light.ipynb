{
 "cells": [
  {
   "cell_type": "markdown",
   "metadata": {},
   "source": [
    "# The Speed of Light"
   ]
  },
  {
   "cell_type": "markdown",
   "metadata": {
    "tags": [
     "remove-cell"
    ]
   },
   "source": [
    "\n",
    "### Peter Onyisi\n",
    "<img src=\"images/texas_logo.png\" width=\"400\" align=\"left\"/>"
   ]
  },
  {
   "cell_type": "markdown",
   "metadata": {},
   "source": [
    "## Maxwell's Equations\n",
    "\n",
    "In _free space_ (i.e. no electric charges or currents), Maxwell's equations take on the following form:\n",
    "$$\n",
    "\\begin{align*}\n",
    "\\nabla\\cdot\\mathbf{E} &= 0\\\\\n",
    "\\nabla\\times\\mathbf{E} &= -\\frac{\\partial\\mathbf{B}}{dt}\\\\\n",
    "\\nabla\\cdot\\mathbf{B} &= 0\\\\\n",
    "\\nabla\\times\\mathbf{B} &= \\mu_0 \\epsilon_0 \\frac{\\partial\\mathbf{E}}{dt}\n",
    "\\end{align*}\n",
    "$$\n",
    "where a) Gauss's law says the divergence of $\\mathbf{E}$ is zero as there is no charge; b) Faraday's law says a change in magnetic field produces an electric field; c) the divergence of $\\mathbf{B}$ is always zero as there are no magnetic charges; d) magnetic field can be produced by a time-varying electric field (the so-called Maxwell *displacement current*).  Intuitively we might imagine that if a changing $\\mathbf{B}$ field can produce an $\\mathbf{E}$ field, and a changing $\\mathbf{E}$ field can produce a $\\mathbf{B}$ field, we could arrange to have some kind of self-reinforcing system of electric and magnetic fields that could exist without any charges or currents nearby. By doing some vector calculus we can find that such an electric field $\\mathbf{E}(\\mathbf{x}, t)$ must satisfy\n",
    "$$\n",
    "{\\mu_0\\epsilon_0} \\frac{\\partial^2 \\mathbf{E}}{\\partial t^2} - \\frac{\\partial^2 \\mathbf{E}}{\\partial x^2} - \\frac{\\partial^2 \\mathbf{E}}{\\partial y^2} - \\frac{\\partial^2 \\mathbf{E}}{\\partial z^2} = 0 \n",
    "$$\n",
    "This is a generic *wave equation*: its solutions are waves that travel with speed $c = 1/\\sqrt{\\mu_0\\epsilon_0} = 3\\times 10^8$ m/s. So from Maxwell's equations we can predict the existence of free-standing electromagnetic waves that travel very fast. In fact light was known to travel at that speed also, so the obvious inference was that light was some kind of electromagnetic wave.\n",
    "\n",
    "## The Luminiferous Ether\n",
    "\n",
    "Sound waves travel in a material; waves in a string travel along the string; and so on. The initial assumption was that electromagnetic waves were similar: the waves would be vibrations in some material, called the luminiferous ether.\n",
    "\n",
    "This ran into difficulties pretty quickly:\n",
    "* the ether would have to be very rigid in order for the waves to travel as fast as the speed of light, but yet allow the planets to pass through it with essentially no resistance;\n",
    "* it had to be, as far as anyone could tell, massless;\n",
    "* the ether would need to allow _transverse_ waves but not _Longitudinal_ waves - i.e. it would not have any analog of sound waves. This required very special mechanical properties.\n",
    "\n",
    "In spite of these concerns, the idea that light was associated with vibrations in a substance was pervasive. This picture provided a natural interpration of what the speed $c$ meant: it was the speed of light *with respect to the ether*. If you were moving relative to the ether, you would expect that the speed of light woud appear to not be $c$, and, crucially, depend on the direction and speed of travel through the ether. Since the Earth travels around the Sun and its velocity changes during the year, one would expect that at least at some point during the year Earth's velocity relative to the ether would not be zero.\n",
    "\n",
    "## The Michelson-Morley Experiment\n",
    "\n",
    "The most famous attempt to find the effect on the apparent speed of light caused by traveling through the ether was reported by Michelson and Morley in 1887. This experiment attempted to measure changes in the time it takes for light to travel fixed distances, depending on the orientation relative to the ether.\n",
    "[![Michelson-Morley Setup](images/Michelson-Morley.png)](https://history.aip.org/history/exhibits/gap/PDF/michelson.pdf)\n",
    "The speed of light is 300,000 km/s, and the speed of the Earth around the Sun is 30 km/s, so trying to directly measure changes in the speed of light was beyond the capabilities of the time. However, by taking a light wave, splitting it to follow two perpendicular paths, reflecting the beams off of mirrors, and recombining the beams, the light could be made to interfere with itself: if the difference in the time taken for the light to go down the two paths changes by an appreciable fraction of the period of the light wave (~ $1.5 \\times 10^{-15}$ s), this would result in a visible shift of the interference pattern.  (Notice that all they had to measure was a difference in a difference! This kind of thing often makes experimental design easier.) This kind of device is called an *interferometer*.\n",
    "\n",
    "Assume in the diagram above that the ether is moving horizontally to the left at speed $v$, and for convenience let's say that both arms have length $L$.  The light traveling on the horizontal arm will travel at speed $c-v$ relative to the interferometer as it goes to the right (it is going against the ether motion), and with speed $c+v$ as it returns, for a total time of\n",
    "$$ T_1 = \\frac{L}{c-v} + \\frac{L}{c+v} = \\frac{2L}{c}\\frac{1}{1-v^2/c^2} $$\n",
    "The light traveling along the _vertical_ arm will have a speed $\\sqrt{c^2 - v^2}$, since the vector sum of the ether motion and the velocity in the interferometer (\"lab\") frame have to give total speed $c$.  This applies both for the travel up and the travel down, for a total travel time\n",
    "$$ T_2 = 2\\frac{L}{\\sqrt{c^2-v^2}} = \\frac{2L}{c}\\frac{1}{\\sqrt{1-v^2/c^2}}$$\n",
    "So both arms have total time slightly longer than one would have in the absence of an ether, but, crucially, differently slightly longer. If $L=20$ m, then the time difference is $3 \\times 10^{-16}$ s, about 20\\% of a period of visible light. Now in practice $L$ is not quite the same for both arms, so $T_1-T_2$ does not directly tell us much.  *However* we can rotate the apparatus by $90^\\circ$, exchanging the horizontal and vertical arms; this will change the measured time difference to $T_2-T_1$. So if we are moving relative to the ether, and we rotate the apparatus, we should expect to see the interference pattern change.\n",
    "\n",
    "In practice, Michelson and Morley did not observe any significant changes in the interference pattern during rotation:\n",
    "![Michelson-Morley Result](images/Michelson-Morley-Result.png)\n",
    "(the two results show a noon-time and an evening measurement; the dotted line is a theoretical prediction and the solid line shows the measurement). Possible explanations for the non-observation included\n",
    "* the ether was somehow dragged by the Earth, so $v$ is always zero (but this contradicted other measurements);\n",
    "* the length of the arms changed depending on the speed relative to the ether (this gave a term called the *Lorentz-FitzGerald contraction*, which actually pops up in relativity);\n",
    "* reject the ether entirely and accept that the speed of light doesn't change when you change reference frame (this is the solution adopted by Einstein for special relativity).\n",
    "\n",
    "## The End of Absolute Time: Time Dilation\n",
    "The assumption that the speed of light is the same for all (inertial) reference frames has a number of non-intuitive results. For example, the speed of a clock changes if the clock moves.\n",
    "\n",
    "![Theoretical clock](images/traveling_clock.png)\n",
    "\n",
    "Let's illustrate this by making a weird kind of theoretical clock, in which a burst of light is reflected between two parallel mirrors separated by a distance $L$. When the light makes a complete roundtrip of $2L$, then one clock tick corresponding to $T = 2L/c$ will have elapsed.\n",
    "\n",
    "Now suppose the clock is moving with speed $v$ perpendicular to the axis separating the mirrors. The light needs to travel _sideways_ to travel from one clock to another - i.e. a longer distance.  With a constant speed of light, the time $T'$ needed for the round trip for the moving clock satisfies\n",
    "$$\\begin{align*}\n",
    "T' &= 2\\frac{\\sqrt{L^2 + (vT'/2)^2}}{c} \\\\\n",
    "(cT'/2)^2 &= L^2 + (vT'/2)^2\\\\\n",
    "T'^2(c^2 - v^2) &= (2L)^2\\\\\n",
    "T' &= 2\\frac{L}{c}\\frac{1}{\\sqrt{1-(v/c)^2}}\n",
    "\\end{align*}\n",
    "$$\n",
    "If $v < c$ then $\\sqrt{1-(v/c)^2} < 1$, so $T' > T$ (as we would expect). So the length of the clock ticks are extended when the clock is moving.\n",
    "\n",
    "Now, here's the issue. Someone who is moving along with the clock will see the clock as being stationary, and the light traveling the usual distance $L$ between the mirrors, with clock ticks taking time $T$. So the co-moving observer says that the clock ticks take time $T$; the \"stationary\" observer says the clock ticks take time $T' > T$, i.e. the clock speed changes by a factor $1/\\sqrt{1-(v/c)^2}$! If something takes one clock tick to occur, the co-moving observer will say it takes a lot shorter time to happen than the stationary one will. Absolute time no longer exists: different observers differ on the time elapsed between events.\n",
    "\n",
    "Note that this does not depend on the specific construction of the light clock; any clock must experience the same effect. This comes from requiring consistency of the things that happen, as seen by both observers.  Imagine we rig the light clock to a mechanical clock. When we start the mechanical clock, light is emitted. When the light returns, the time determined by the mechanical clock is checked, and if it is equal to $T$ (not $T'$!) fireworks are set off.  Clearly this is true for the co-moving observer.  But for consistency of the universe, if one observer thinks the fireworks are set off, then _all_ observers must think the fireworks are set off. So it must be the case that, as viewed by the stationary observer, the ticks of the moving mechanical clock are slowed down in exactly the same way as the ticks of the light clock.\n",
    "\n",
    "The square root factor that we see above appears extremely often in special relativity, and gets a special symbol:\n",
    "$$ \\gamma \\equiv \\frac{1}{\\sqrt{1-(v/c)^2}} \\ge 1 $$\n",
    "\n",
    "The effect we have just seen goes by the name *time dilation*. A general formulation of time dilation goes as follows:\n",
    "\n",
    "> Consider two *events*: occurrences marked by a definite location in time and space $(\\mathbf{x}, t)$. If, for some observer A, the two events happen at the same $\\mathbf{x}$, then that observer measures the shortest _time_ between the events $\\Delta t$ of all possible observers (and is termed the *proper time*). For other observers, who see observer A moving with constant velocity $\\mathbf{v}$, the time between the events is found to be $\\Delta t' = \\gamma\\Delta t > \\Delta t$.\n",
    "\n",
    "In the specific case we analyzed above, the _events_ are the light leaving the bottom mirror and the light returning to the bottom mirror: for the observer moving along with the clock, they occur at the same position (the unmoving bottom mirror), separated by $\\Delta t = T$ in time. This is the shortest possible time that any observer could measure for this occurence. For the \"stationary\" observer, for whom the clock moves with speed $v$, the time between the events is now $\\Delta t' = \\gamma\\Delta t = \\gamma T$, which agrees with the result we explicitly derived.\n",
    "\n",
    "Now for everyday objects $\\gamma$ is very close to 1 (e.g. if you go jogging at 6 miles per hour, $\\gamma = 1 + 1.6\\times 10^{-16}$) so we do not notice clocks going out of sync due to this.  (However if you maintain atomic clocks for worldwide time standards, or global positioning system satellites, you care about this a lot: the clocks on GPS satellites would shift by 7 microseconds a day compared to Earthbound clocks if this effect wasn't compensated for, which would give kilometer-size errors in a day.)\n",
    "\n",
    "### Cosmic Rays\n",
    "There are unstable fundamental particles called _muons_ that are the main component of so-called *secondary cosmic rays*, which are produced in the upper atmosphere by constant bombardment from extraterrestrial protons and nuclei. The cosmic ray muons travel down to the surface of the earth, where they are a constant source of background radiation (the flux at sea level is $\\approx$ 1 muon/cm<sup>2</sup>/min. They have a half-life of 1.56 microseconds, as measured for _stationary_ muons.\n",
    "\n",
    "An [experiment](https://aapt.scitation.org/doi/10.1119/1.1969508) was performed by Frisch and Smith to measure the number of cosmic ray muons seen at different altitudes (on top of Mt. Washington, 1910 m above sea level, and in Cambridge, Massachusetts, 3m). (It should be noted that this was done long after the predictions of relativity were established! It's a pedagogical experiment.) The speed of the muons was required to be between $0.9950c$ and $0.9954c$.  As measured by \"stationary\" observers (not moving with the muons), the travel time between these two altitudes is\n",
    "\n",
    "$$ T' = \\frac{1907\\textrm{ m}}{0.9950c \\sim 0.9954c} = 6.39\\ \\mu\\textrm{s}$$\n",
    "\n",
    "This is 4.1 half-lives, so we would expect that only a proportion $1/2^{4.1} = 0.058$ of the muons that pass through the height of the top of the mountain would arrive at sea level, the observed rates at the two altitudes ought to be in that ratio.  In fact, they found a ratio of rates of 0.72 &pm; 0.02: many more muons survive the trip than expected.\n",
    "\n",
    "The resolution is the following: the decay half-life is defined in a reference frame in which the muon is stationary. This is the shortest possible value that could be measured by an observer.  For the scientists, who are moving relative to the muons, we expect the measured half-life to be longer by a factor $\\gamma$.  For this speed one finds $\\gamma \\approx 10$, so instead of 6.39 &mu;s being 4.1 half-lives, it is 0.41 half-lives.  We then predict a fraction $1/2^{0.41} = 0.75$ of the muons to survive, in agreement with the experiment.\n",
    "\n",
    "Put in another, equivalent way: the time measured by the scientists, $T'$, is $\\gamma T$, where $T$ is the time that would be measured by the muon. So $T=T'/\\gamma = 0.64\\ \\mu\\textrm{s}$.\n",
    "\n",
    "A short film was made about the experiment, which you can watch here:"
   ]
  },
  {
   "cell_type": "code",
   "execution_count": 1,
   "metadata": {},
   "outputs": [
    {
     "data": {
      "image/jpeg": "[encoded data removed]",
      "text/html": [
       "\n",
       "        <iframe\n",
       "            width=\"855\"\n",
       "            height=\"641\"\n",
       "            src=\"https://www.youtube.com/embed/rbzt8gDSYIM?rel=0\"\n",
       "            frameborder=\"0\"\n",
       "            allowfullscreen\n",
       "        ></iframe>\n",
       "        "
      ],
      "text/plain": [
       "<IPython.lib.display.YouTubeVideo at 0x7f7d64630550>"
      ]
     },
     "execution_count": 1,
     "metadata": {},
     "output_type": "execute_result"
    }
   ],
   "source": [
    "from IPython.display import YouTubeVideo\n",
    "YouTubeVideo('rbzt8gDSYIM', width=855, height=641, rel=0)"
   ]
  },
  {
   "cell_type": "markdown",
   "metadata": {},
   "source": [
    "## Length Contraction\n",
    "\n",
    "From above we conclude that cosmic ray muons observe a much shorter time for their trip from the top of Mt. Washington to sea level than observers at rest relative to the Earth would measure.  This introduces a complication. From the muons' point of view, the Earth is traveling towards them at 0.995c; but 0.64 &mu;s is not a long enough time for the muons to traverse 1907 meters. How can we reconcile this?\n",
    "\n",
    "The answer is that it's not only time that changes between the reference frames, but space also. From the point of view of the muon, the distance from the top of the mountain to sea level is shortened by a factor $\\gamma$; if $L$ is the distance traveled by the muon in the Earth frame, and $L'$ is the distance traveled in the muon frame, we must have\n",
    "\n",
    "$$ L' = L/\\gamma $$\n",
    "\n",
    "This effect is called *length contraction*.\n",
    "\n",
    "> Consider an object which an observer A considers to be stationary. For an observer B moving with constant velocity $\\mathbf{v}$ relative to A, lengths on the object _in the direction of travel_ (i.e. parallel to $\\mathbf{v}$) are measured to be $L'=L/\\gamma$, where $L'$ is the value measured by observer B and $L$ is the value measured by observer A. Lengths on the object _perpendicular_ to the direction of travel are unchanged.  Observer A observes the longest possible lengths among all observers.\n",
    "\n",
    "So the muon experiment can be explained either by noting that the muon half-life is longer in a frame in which the muon is moving (the scientist frame), or that the distance the muon must travel is shortened (the muon frame)."
   ]
  }
 ],
 "metadata": {
  "celltoolbar": "Tags",
  "kernelspec": {
   "display_name": "Python 3",
   "language": "python",
   "name": "python3"
  },
  "language_info": {
   "codemirror_mode": {
    "name": "ipython",
    "version": 3
   },
   "file_extension": ".py",
   "mimetype": "text/x-python",
   "name": "python",
   "nbconvert_exporter": "python",
   "pygments_lexer": "ipython3",
   "version": "3.8.8"
  }
 },
 "nbformat": 4,
 "nbformat_minor": 4
}
