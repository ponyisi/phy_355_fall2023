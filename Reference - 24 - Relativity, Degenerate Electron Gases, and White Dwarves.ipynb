{
 "cells": [
  {
   "cell_type": "markdown",
   "metadata": {},
   "source": [
    "# Relativity, Degenerate Electron Gases, and White Dwarves"
   ]
  },
  {
   "cell_type": "markdown",
   "metadata": {
    "tags": [
     "remove-cell"
    ]
   },
   "source": [
    "\n",
    "### Peter Onyisi\n",
    "<img src=\"images/texas_logo.png\" width=\"400\" align=\"left\"/>"
   ]
  },
  {
   "cell_type": "markdown",
   "metadata": {},
   "source": [
    "## Relativistic Particle in a Box\n",
    "\n",
    "When we considered the particle restricted to move in a three-dimensional cube of side $L$, we found that stationary wave function states were characterized by three numbers $n_x$, $n_y$, and $n_z$ that specify the number of antinodes of the wave function in $x$, $y$, and $z$. The momenta associated with the three dimensions are\n",
    "\n",
    "$$\\begin{align*}\n",
    "p_x &= \\frac{n_x\\pi\\hbar}{L} \\\\\n",
    "p_y &= \\frac{n_y\\pi\\hbar}{L} \\\\\n",
    "p_z &= \\frac{n_z\\pi\\hbar}{L} \\\\\n",
    "\\end{align*}\n",
    "$$\n",
    "\n",
    "Although Schr&ouml;dinger's equation is not relativistic (time enters with a single derivative, while space enters with a second derivative), it turns out that the particle in a box wavefunctions behave the same way as for the non-relativistic particle in a box, i.e. they are standing wave-type solutions with a triple of integers $(n_x, n_y, n_z)$ that count the number of antinodes, with momentum $\\mathbf{p} = \\frac{\\pi\\hbar}{L}(n_x, n_y, n_z)$.\n",
    "\n",
    "The energy of a state with momentum $\\mathbf{p}$ is $E = \\sqrt{\\mathbf{p}^2+m^2}$. Non-relativistically, with $|\\mathbf{p}| \\ll m$, we have $E \\approx m + \\mathbf{p}^2/2m$; ultra-relativistically ($|\\mathbf{p}|\\gg m$), we have $E \\approx |\\mathbf{p}|c$ (using SI units). \n",
    "\n",
    "In a degenerate electron gas, the _Fermi momentum_ is the momentum magnitude $|\\mathbf{p}|$ of the highest occupied state; if there are $N$ electrons, then the Fermi momentum is\n",
    "\n",
    "$$ p_F(N) = \\frac{h}{2}\\left(\\frac{3}{\\pi}\\frac{N}{V}\\right)^{1/3} $$\n",
    "\n",
    "(regardless of whether things are relativistic or non-relativistic). The total energy of the electrons is\n",
    "\n",
    "$$ \\begin{align*}\n",
    "E_\\mathrm{tot} &= \\int_0^{p_F} 2 E(p) \\frac{8V}{h^3} \\frac{4\\pi p^2}{8} dp \n",
    "\\end{align*}\n",
    "$$\n",
    "\n",
    "(we integrate the energy for each momentum value, $E(p)$, for two electrons, accounting for the fact that there are $8V/h^3$ spatial wavefunction states per unit volume of momentum space, but we are only integrating over $1/8$ of a sphere.) In the non-relativistic case this gives total kinetic energy\n",
    "\n",
    "$$ \\begin{align*}\n",
    "K_\\mathrm{tot} &= \\int_0^{p_F} 2 \\frac{p^2}{2m} \\frac{8V}{h^3} \\frac{4\\pi p^2}{8} dp \\\\\n",
    "&=\\int_0^{p_f} \\frac{4\\pi V}{m h^3} p^4 dp\\\\\n",
    "&=\\left.\\frac{4 \\pi V}{5 mh^3} p^5\\right|_0^{p_F}\\\\\n",
    "&= \\frac{4 \\pi V}{5 mh^3} \\frac{h^5}{32}\\left(\\frac{3}{\\pi}\\frac{N}{V}\\right)^{5/3}\\\\\n",
    "&= \\frac{3}{5}N\\frac{h^2}{8m}\\left(\\frac{3}{\\pi}\\frac{N}{V}\\right)^{2/3}\n",
    "\\end{align*}\n",
    "$$\n",
    "\n",
    "which depends on volume as $V^{-2/3}$. For the *ultrarelativistic* case (approximating $E\\approx |\\mathbf{p}|$ throughout) we get total energy\n",
    "\n",
    "$$ \\begin{align*}\n",
    "E_\\mathrm{tot} &= \\int_0^{p_F} 2 pc \\frac{8V}{h^3} \\frac{4\\pi p^2}{8} dp \\\\\n",
    "&=\\int_0^{p_f} \\frac{8\\pi V c}{h^3} p^3 dp\\\\\n",
    "&=\\left.\\frac{8 \\pi V c}{4 mh^3} p^4\\right|_0^{p_F}\\\\\n",
    "&= \\frac{8 \\pi V c}{4 mh^3} \\frac{h^4}{16}\\left(\\frac{3}{\\pi}\\frac{N}{V}\\right)^{4/3}\\\\\n",
    "&= \\frac{3}{4}N \\frac{hc}{2}\\left(\\frac{3}{\\pi}\\frac{N}{V}\\right)^{1/3}\n",
    "\\end{align*}\n",
    "$$\n",
    "\n",
    "which now depends on volume as $V^{-1/3}$ instead. This turns out to have important consequences. If we recall that the pressure is $-\\partial E/\\partial V$, the pressure of the non-relativistic gas goes as $\\frac{2}{3}E_\\mathrm{tot}/V$, while that of the relativistic gas goes as $\\frac{1}{3}E_\\mathrm{tot}/V$; the relativistic gas has lower pressure.\n",
    "\n",
    "## White Dwarf Stars\n",
    "A star like the Sun is actively fusing nuclei together and releasing kinetic energy from these reactions. That makes for a high temperature (and pressure) in the middle of the star, which counteracts gravity trying to pull the mass of the star towards the center.  The heat is eventually lost as thermal radiation from the surface of the star, which needs to match the rate of energy generation in the interior.  This delicate balancing act determines the size and structure of the star.\n",
    "\n",
    "The core of a star like the Sun does not get hot enough during the star's life cycle to fuse nuclei to anything heavier than carbon and oxygen. When these elements build up, the heat-producing mechanism of the star slows and stops, and (eventually) the core is no longer able to support itself by generating new kinetic energy.  It contracts until electron degeneracy pressure is able to balance the force of gravity, at which point it is called a *white dwarf* star.  We can qualitatively understand the situation by looking for the radius that gives the minimum sum of the gravitational potential energy of the matter and the kinetic energy of the electrons.  If we make the assumption that the star has uniform density in this stage, then the gravitational potential energy is\n",
    "\n",
    "$$ U = -\\frac{3}{5}\\frac{GM^2}{R} $$\n",
    "\n",
    "where $R$ is the radius of the star and $M$ is the total mass of the star. Because the star's mass is mostly protons and neutrons, and for carbon-12 or oxygen-16 the number of protons and neutrons are equal, we have $M \\approx N (2 m_p)$, where $N$ is the total number of electrons in the star from above.\n",
    "\n",
    "The kinetic energy in the non-relativistic case is proportional to $V^{-2/3}$, or, put another way, to $1/R^2$. The potential energy is proportional to $1/R$. So the total energy goes as\n",
    "\n",
    "$$ E_\\mathrm{NR} = -\\frac{C_1}{R} + \\frac{C_2}{R^2} $$\n",
    "\n",
    "and the value of $R$ that minimizes $E$ can be gotten by setting $dE/dR = 0$:\n",
    "\n",
    "$$ R_\\mathrm{min,NR} = \\frac{2C_2}{C_1} $$\n",
    "\n",
    "Now as long as $C_1$ and $C_2$ are positive, there will *always* be a solution to this equation: no matter how massive the star would be, there is a minimum energy with $R_\\mathrm{min,NR} > 0$. Substituting in values for $C_1$ and $C_2$ we find that\n",
    "\n",
    "$$ \\begin{align*}\n",
    "R_\\mathrm{min,NR} &= 2\\left(\\frac{3}{5}N\\frac{h^2}{8m}\\left(\\frac{3}{\\pi}\\frac{N}{\\frac{4}{3}\\pi}\\right)^{2/3}\\right)\\left(\\frac{3 GM^2}{5}\\right)^{-1} \\\\\n",
    "&=\\frac{h^2 (M/2m_p)}{4m M^2 G}\\left(\\frac{9}{4\\pi^2}\\frac{M}{2m_p}\\right)^{2/3}\\\\\n",
    "&=\\frac{h^2}{32m m_p^{5/3} M^{1/3} G}\\left(\\frac{9}{\\pi^2}\\right)^{2/3}\n",
    "\\end{align*}\n",
    "$$\n",
    "\n",
    "Substituting in the mass of the Sun ($M = M_\\odot = 2 \\times 10^{30}$ kg) we get $R_\\mathrm{min,NR} = 7.2 \\times 10^{6}$ m, which is just slightly over the radius of the Earth ($6.4 \\times 10^6$ m).  Many stellar remnants of this kind are known; Sirius B, the companion star of Sirius A, was first directly observed in 1862, after being predicted twenty years earlier from its gravitational effect on Sirius A.  (Sirius B is almost exactly the mass of the sun, and is a little smaller than our prediction - $5.9 \\times 10^{6}$ m - because we have neglected relativity and the actual pressure/density profile of the star.) As more mass is added, the star shrinks ($R \\propto M^{-1/3}$).\n",
    "\n",
    "It should be noted that while white dwarf stars are \"white\" because their surface temperature is very high compared to, for example, that of the Sun, they are much *cooler* than the fusing cores of active stars.\n",
    "\n",
    "We can determine the average electron kinetic energy for our one-solar-mass white dwarf assuming non-relativistic electrons; it can be shown that at equilibrium $K_\\mathrm{tot} = -U/2$:\n",
    "\n",
    "$$ \\frac{K_\\mathrm{tot}}{N} = \\frac{1}{N}\\frac{3}{10}\\frac{GM^2}{R_\\mathrm{min,NR}} = \\frac{3 m_p}{5 M}\\frac{GM^2}{R_\\mathrm{min,NR}} = 1.9 \\times 10^{-14}\\textrm{ J}$$\n",
    "\n",
    "The mass of an electron $mc^2 = 8.2 \\times 10^{-14}$ J so we need to consider the effects of relativity (the implied velocity is $v \\sim 0.7c$, for which $\\gamma \\sim 1.7$, which would give a much higher kinetic energy than the non-relativistic calculation).\n",
    "\n",
    "## The Chandrasekhar Limit\n",
    "\n",
    "We considered the case of non-relativistic electrons above. What happens if we use the ultrarelativistic expression instead?\n",
    "\n",
    "Unlike the case for non-relativistic electrons, the ultrarelativistic total energy depends on volume as $V^{-1/3}$, or equivalently $1/R$. This is the *same* dependence as the gravitational potential energy. In the non-relativistic case, for small $R$, the $1/R^2$ kinetic energy term will always eventually win over the $1/R$ potential energy, so there will always be a minimum. But for relativistic electrons, unless the kinetic energy and potential energy terms exactly cancel, the minimum will either be at $R=0$ (the star collapses to nothing) or at $R=\\infty$ (the star explodes). This is because the pressure of the relativistic gas is lower than that of the non-relativistic gas. The balance occurs when\n",
    "\n",
    "$$ \\begin{align*}\n",
    "0 &=-\\frac{3}{5}\\frac{GM^2}{R} + \\frac{3}{4}N \\frac{hc}{2}\\left(\\frac{3}{\\pi}\\frac{N}{V}\\right)^{1/3} \\\\\n",
    "&= -\\frac{3}{5}\\frac{GM^2}{R} + \\frac{3}{4}\\frac{M}{2m_p} \\frac{hc}{2}\\left(\\frac{3}{\\pi}\\frac{M}{2 m_p \\frac{4}{3}\\pi R^3}\\right)^{1/3}\\\\\n",
    "\\frac{3}{5} GM^2 &= \\frac{3}{4}\\frac{M^{4/3}}{2m_p^{4/3}} \\frac{hc}{2}\\left(\\frac{9}{8 \\pi^2}\\right)^{1/3}\\\\\n",
    "M^{2/3} &= \\frac{5}{32 m_p^{4/3} G}{hc}\\left(\\frac{9}{\\pi^2}\\right)^{1/3}\\\\\n",
    "M &= \\left(\\frac{5}{32  G}{hc}\\right)^{3/2}\\frac{1}{m_p^2}\\frac{3}{\\pi}\\\\\n",
    "&= 3.4 \\times 10^{30}\\textrm{ kg} = 1.7 M_\\odot\n",
    "\\end{align*}\n",
    "$$\n",
    "\n",
    "If $M > 1.7 M_\\odot$ the total energy will be unbounded from below, and $R$ will go to zero.\n",
    "\n",
    "If we keep adding mass to a white dwarf with non-relativistic electrons, we will keep raising the energy of the highest energy electrons, and we will approach the ultrarelativistic limit. A more careful calculation, taking into account a realistic star density profile ([Chandrasekhar 1931](https://academic.oup.com/mnras/article/91/5/456/985147)), gives a limit mass (the *Chandrasekhar limit*) closer to $1.4 M_\\odot$. Above this mass, electron degeneracy pressure is no longer able to support the star, and it will collapse.  If it's not too heavy, it will turn into what is basically a gigantic nucleus composed of neutrons (a *neutron star*), prevented from further collapse by *neutron* degeneracy pressure and neutron-neutron repulsion; if it's heavier than $\\sim 2-3 M_\\odot$ nothing can stop it and it will collapse into a black hole."
   ]
  },
  {
   "cell_type": "markdown",
   "metadata": {},
   "source": []
  },
  {
   "cell_type": "code",
   "execution_count": null,
   "metadata": {},
   "outputs": [],
   "source": []
  }
 ],
 "metadata": {
  "celltoolbar": "Tags",
  "kernelspec": {
   "display_name": "Python 3",
   "language": "python",
   "name": "python3"
  },
  "language_info": {
   "codemirror_mode": {
    "name": "ipython",
    "version": 3
   },
   "file_extension": ".py",
   "mimetype": "text/x-python",
   "name": "python",
   "nbconvert_exporter": "python",
   "pygments_lexer": "ipython3",
   "version": "3.8.6"
  }
 },
 "nbformat": 4,
 "nbformat_minor": 4
}
