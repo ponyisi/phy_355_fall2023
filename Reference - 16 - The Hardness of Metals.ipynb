{
 "cells": [
  {
   "cell_type": "markdown",
   "metadata": {},
   "source": [
    "# The Hardness of Metals"
   ]
  },
  {
   "cell_type": "markdown",
   "metadata": {
    "tags": [
     "remove-cell"
    ]
   },
   "source": [
    "\n",
    "### Peter Onyisi\n",
    "<img src=\"images/texas_logo.png\" width=\"400\" align=\"left\"/>"
   ]
  },
  {
   "cell_type": "markdown",
   "metadata": {},
   "source": [
    "As an interesting fact, we can get a qualitative understanding of the incompressibility of metals by modeling the valence electrons of the metal (i.e., the number of electrons in not-completely-filled orbitals) as a collection of electrons in a box. In a metal, the nuclei and inner electron cores of the atoms are spaced periodically, providing a positive charge that creates a potential well for the electrons, and each outer electron sees more or less the same potential.  However the Pauli exclusion principle prevents them from all being in the lowest energy state; as we put more electrons into the metal, we have to put them into progressively higher energy states.  We earlier determined the number of particle in a box states with kinetic energy $\\le E$.  Since electrons have spin, we can stick two into each particle in a box spatial state.  For a box of volume $V$, the number of electron states with kinetic energy $\\le E$ is\n",
    "\n",
    "$$ N_e(E) = \\frac{8\\pi(2m)^{3/2}}{3}\\frac{V}{h^3} E^{3/2} $$\n",
    "\n",
    "If we have a certain number of electrons $N$ to accommodate, and they just fill up the states sequentially, the energy of the highest energy electrons will be the _Fermi energy_ and will satisfy $N_e(E_F) = N$. We can invert the equation to get\n",
    "\n",
    "$$ E_F = \\frac{h^2}{8m}\\left(\\frac{3}{\\pi}\\frac{N}{V}\\right)^{2/3} $$\n",
    "\n",
    "Now, if I want to _compress_ the metal (reduce $V$) but keep the same number of electrons $N_e$, the energy of the electrons has to increase! In fact the energy of each particle in a box state (for fixed $(n_x, n_y, n_z)$) is proportional to $V^{-2/3}$. The total energy of the electrons can be shown to be\n",
    "\n",
    "$$ E_\\mathrm{tot} = \\frac{3}{5} N E_F \\propto V^{-2/3}.$$\n",
    "\n",
    "Now changing the volume of the metal by a small amount $\\Delta V$ using a pressure $P$ requires work $-P\\Delta V$ (since $\\Delta V$ is negative), which is the energy that increases the kinetic energy of the electrons by an amount $\\Delta E_\\mathrm{tot}$. So we can get a pressure\n",
    "\n",
    "$$ P = -\\frac{\\Delta E_\\mathrm{tot}}{\\Delta V} = -\\frac{\\partial E_\\mathrm{tot}}{\\partial V} = -\\frac{3}{5} N \\frac{h^2}{8m}\\left(\\frac{3}{\\pi}N\\right)^{2/3} \\times -\\frac{2}{3}\\frac{1}{V^{5/3}} = \\frac{2}{5} \\frac{N}{V} E_F$$\n",
    "\n",
    "The standard way to describe the compressibility of a solid is the *bulk modulus* $K$, which says how much, fractionally, a metal compresses ($dV/V$) for a certain increase in pressure $dP$. The more pressure $dP$ is needed to compress the material a certain amount, the higher the bulk modulus is. Formally, it is defined by\n",
    "\n",
    "$$ K = -V\\frac{\\partial P}{\\partial V} $$\n",
    "\n",
    "For this $P$, we can get\n",
    "\n",
    "$$ K = \\frac{5}{3} P = \\frac{2}{3} \\frac{N}{V} E_F $$\n",
    "\n",
    "For an example, let us take sodium. A mole of sodium atoms occupies 23.78 cm<sup>3</sup>, and each sodium atom has 1 valence electron, so the electron density $N/V$ is $2.53 \\times 10^{28}$ m<sup>-3</sup>. This gives a Fermi energy $E_F = 5.04 \\times 10^{-19}$ J = 3.1 eV, and a bulk modulus $K = 8.5 \\times 10^{9}$ N/m<sup>2</sup>; the actual value is $\\sim 6.3 \\times 10^{9}$ N/m<sup>2</sup>, so this is in the correct ballpark.\n",
    "\n",
    "The corresponding pressure is $5.1 \\times 10^{9}$ N/m<sup>2</sup>, independent of the temperature. (Why doesn't this pressure cause the electrons to explode out of the metal? The potential energy barrier is too big - they are attracted too strongly to the lattice.)  If we instead treated the electrons as an ideal gas, we would have \n",
    "\n",
    "$$ P = \\frac{n R T}{V} = \\frac{N}{V} k_B T $$\n",
    "\n",
    "which at 300 K gives us $1.0 \\times 10^{8}$ N/m<sup>2</sup>, nearly two orders of magnitude smaller. Put another way, if the pressure of the electrons was that of an ideal gas, it would have to have temperature 24,000 K.\n",
    "\n",
    "This situation, where the kinetic energy (and pressure) of the electrons is dominated by the quantum mechanical effect of the Pauli Exclusion Principle and not thermal motion, is called a _degenerate electron gas_ or a *Fermi gas*. The same effect, in a much more extreme fashion, provides the pressure that keeps white dwarf stars from collapsing (unlike for the Sun, where it's thermal pressure that does the job).  The same Exclusion Principle-caused pressure exists for all spin-1/2 particles, so neutron stars are kept from collapsing into black holes by the same same effect applied to neutrons."
   ]
  },
  {
   "cell_type": "code",
   "execution_count": null,
   "metadata": {},
   "outputs": [],
   "source": []
  }
 ],
 "metadata": {
  "celltoolbar": "Tags",
  "kernelspec": {
   "display_name": "Python 3",
   "language": "python",
   "name": "python3"
  },
  "language_info": {
   "codemirror_mode": {
    "name": "ipython",
    "version": 3
   },
   "file_extension": ".py",
   "mimetype": "text/x-python",
   "name": "python",
   "nbconvert_exporter": "python",
   "pygments_lexer": "ipython3",
   "version": "3.8.6"
  }
 },
 "nbformat": 4,
 "nbformat_minor": 4
}
